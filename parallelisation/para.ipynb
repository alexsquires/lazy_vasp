{
 "cells": [
  {
   "cell_type": "code",
   "execution_count": 104,
   "metadata": {},
   "outputs": [],
   "source": [
    "def round_int(x,interval):\n",
    "    return round(x/interval)*interval\n",
    "\n",
    "def para(n_elect,cores_per_node,cores_per_band,kpoints=None):\n",
    "        ncore=cores_per_node\n",
    "        bands=round(n_elect/2,0)\n",
    "        nbands= round_int(bands,cores_per_node)\n",
    "        if kpoints == None:\n",
    "            cores=(nbands/cores_per_band)\n",
    "        else:\n",
    "            cores=(nbands/cores_per_band)*2\n",
    "        nodes=round(cores/cores_per_node,0)\n",
    "        kpar=int(kpoints)\n",
    "        if kpar > nodes:\n",
    "            kpar = nodes\n",
    "        \n",
    "        max_cores = kpar*nbands\n",
    "        \n",
    "        \n",
    "        print('NBANDS = ' + str(nbands))\n",
    "        print('NCORE = ' + str(ncore))\n",
    "        print('KPAR = ' + str(kpar))\n",
    "        print(' ')\n",
    "        print('total nodes = ' + str(nodes))\n",
    "        print('total cores = ' + str(cores))\n",
    "        print(' ')\n",
    "        print('and whatever you do, don\\'t use more than ' + str(max_cores) + ' cores')"
   ]
  },
  {
   "cell_type": "code",
   "execution_count": 105,
   "metadata": {},
   "outputs": [
    {
     "name": "stdout",
     "output_type": "stream",
     "text": [
      "NBANDS = 288\n",
      "NCORE = 24\n",
      "KPAR = 2\n",
      " \n",
      "total nodes = 12.0\n",
      "total cores = 288.0\n",
      " \n",
      "and whatever you do, don't use more than 576 cores\n"
     ]
    }
   ],
   "source": [
    "para(554,24,2,kpoints=2)"
   ]
  },
  {
   "cell_type": "code",
   "execution_count": 106,
   "metadata": {},
   "outputs": [
    {
     "name": "stdout",
     "output_type": "stream",
     "text": [
      "NBANDS = 224\n",
      "NCORE = 16\n",
      "KPAR = 4\n",
      " \n",
      "total nodes = 14.0\n",
      "total cores = 224.0\n",
      " \n",
      "and whatever you do, don't use more than 896 cores\n"
     ]
    }
   ],
   "source": [
    "para(432,16,2,kpoints=4)"
   ]
  },
  {
   "cell_type": "code",
   "execution_count": null,
   "metadata": {},
   "outputs": [],
   "source": []
  }
 ],
 "metadata": {
  "kernelspec": {
   "display_name": "Python 3",
   "language": "python",
   "name": "python3"
  },
  "language_info": {
   "codemirror_mode": {
    "name": "ipython",
    "version": 3
   },
   "file_extension": ".py",
   "mimetype": "text/x-python",
   "name": "python",
   "nbconvert_exporter": "python",
   "pygments_lexer": "ipython3",
   "version": "3.6.2"
  }
 },
 "nbformat": 4,
 "nbformat_minor": 2
}
