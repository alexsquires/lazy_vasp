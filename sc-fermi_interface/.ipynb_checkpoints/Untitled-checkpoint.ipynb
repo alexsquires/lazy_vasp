{
 "cells": [
  {
   "cell_type": "code",
   "execution_count": 2,
   "metadata": {},
   "outputs": [
    {
     "ename": "ImportError",
     "evalue": "No module named 'pymatgen.io.vasp.vasp_output'",
     "output_type": "error",
     "traceback": [
      "\u001b[0;31m---------------------------------------------------------------------------\u001b[0m",
      "\u001b[0;31mImportError\u001b[0m                               Traceback (most recent call last)",
      "\u001b[0;32m<ipython-input-2-8d008c52cd5b>\u001b[0m in \u001b[0;36m<module>\u001b[0;34m()\u001b[0m\n\u001b[0;32m----> 1\u001b[0;31m \u001b[0;32mfrom\u001b[0m \u001b[0mpymatgen\u001b[0m\u001b[0;34m.\u001b[0m\u001b[0mio\u001b[0m\u001b[0;34m.\u001b[0m\u001b[0mvasp\u001b[0m\u001b[0;34m.\u001b[0m\u001b[0mvasp_output\u001b[0m \u001b[0;32mimport\u001b[0m \u001b[0mVasprun\u001b[0m\u001b[0;34m\u001b[0m\u001b[0m\n\u001b[0m\u001b[1;32m      2\u001b[0m \u001b[0;34m\u001b[0m\u001b[0m\n\u001b[1;32m      3\u001b[0m \u001b[0mdosrun\u001b[0m \u001b[0;34m=\u001b[0m \u001b[0mVasprun\u001b[0m\u001b[0;34m(\u001b[0m\u001b[0;34m\"vasprun.xml\"\u001b[0m\u001b[0;34m)\u001b[0m\u001b[0;34m\u001b[0m\u001b[0m\n\u001b[1;32m      4\u001b[0m \u001b[0;34m\u001b[0m\u001b[0m\n\u001b[1;32m      5\u001b[0m \u001b[0mdosrun\u001b[0m\u001b[0;34m.\u001b[0m\u001b[0mtdos\u001b[0m\u001b[0;34m.\u001b[0m\u001b[0menergies\u001b[0m \u001b[0;34m-\u001b[0m \u001b[0mdosrun\u001b[0m\u001b[0;34m.\u001b[0m\u001b[0mefermi\u001b[0m\u001b[0;34m\u001b[0m\u001b[0m\n",
      "\u001b[0;31mImportError\u001b[0m: No module named 'pymatgen.io.vasp.vasp_output'"
     ]
    }
   ],
   "source": [
    "from pymatgen.io.vasp.vasp_output import Vasprun\n",
    "\n",
    "dosrun = Vasprun(\"vasprun.xml\")\n",
    "\n",
    "dosrun.tdos.energies - dosrun.efermi"
   ]
  },
  {
   "cell_type": "code",
   "execution_count": null,
   "metadata": {},
   "outputs": [],
   "source": []
  }
 ],
 "metadata": {
  "kernelspec": {
   "display_name": "Python 3",
   "language": "python",
   "name": "python3"
  },
  "language_info": {
   "codemirror_mode": {
    "name": "ipython",
    "version": 3
   },
   "file_extension": ".py",
   "mimetype": "text/x-python",
   "name": "python",
   "nbconvert_exporter": "python",
   "pygments_lexer": "ipython3",
   "version": "3.5.2"
  }
 },
 "nbformat": 4,
 "nbformat_minor": 2
}
